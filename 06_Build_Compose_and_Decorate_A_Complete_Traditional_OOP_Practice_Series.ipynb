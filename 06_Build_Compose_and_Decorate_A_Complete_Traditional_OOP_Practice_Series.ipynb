{
  "nbformat": 4,
  "nbformat_minor": 0,
  "metadata": {
    "colab": {
      "provenance": [],
      "authorship_tag": "ABX9TyOhqPha8bjtOvqkYnB8HjkF",
      "include_colab_link": true
    },
    "kernelspec": {
      "name": "python3",
      "display_name": "Python 3"
    },
    "language_info": {
      "name": "python"
    }
  },
  "cells": [
    {
      "cell_type": "markdown",
      "metadata": {
        "id": "view-in-github",
        "colab_type": "text"
      },
      "source": [
        "<a href=\"https://colab.research.google.com/github/Amberparmaar/Assignment_06_Build_Compose_and_Decorate_A_Complete_Traditional_OOP_Practice_Series/blob/main/06_Build_Compose_and_Decorate_A_Complete_Traditional_OOP_Practice_Series.ipynb\" target=\"_parent\"><img src=\"https://colab.research.google.com/assets/colab-badge.svg\" alt=\"Open In Colab\"/></a>"
      ]
    },
    {
      "cell_type": "markdown",
      "source": [
        "**1. Using self**\n",
        "\n",
        "Assignment:\n",
        "Create a class Student with attributes name and marks. Use the self keyword to initialize these values via a constructor. Add a method display() that prints student details."
      ],
      "metadata": {
        "id": "alpv_h-QIVyo"
      }
    },
    {
      "cell_type": "code",
      "source": [
        "class Student:\n",
        "\n",
        "  def __init__(self,name,marks):\n",
        "    self.name=name\n",
        "    self.marks=marks\n",
        "\n",
        "  def display(self):\n",
        "      print(f\"Student Details: Name: {self.name} , Marks: {self.marks}\")\n",
        "\n",
        "std1= Student(\"Fahad\", 65)\n",
        "std2= Student(\"Faizan\", 40)\n",
        "std1.display()\n",
        "std2.display()\n"
      ],
      "metadata": {
        "colab": {
          "base_uri": "https://localhost:8080/"
        },
        "id": "nWyZHvypIkOx",
        "outputId": "d2529d87-3d8b-442a-ccfc-b18c322a9f8e"
      },
      "execution_count": null,
      "outputs": [
        {
          "output_type": "stream",
          "name": "stdout",
          "text": [
            "Student Details: Name: Fahad , Marks: 65\n",
            "Student Details: Name: Faizan , Marks: 40\n"
          ]
        }
      ]
    },
    {
      "cell_type": "markdown",
      "source": [
        "**2. Using cls**\n",
        "\n",
        "Assignment:\n",
        "Create a class Counter that keeps track of how many objects have been created. Use a class variable and a class method with cls to manage and display the count."
      ],
      "metadata": {
        "id": "-43enkR-K-hS"
      }
    },
    {
      "cell_type": "code",
      "source": [
        "class Counter:\n",
        "  count = 0 # initialize with 0\n",
        "\n",
        "  def __init__(self):\n",
        "    Counter.count += 1 #increament\n",
        "\n",
        "  @classmethod\n",
        "  def display_count(cls):\n",
        "    print(\"Total Counts: \", cls.count)\n",
        "\n",
        "obj1 = Counter()\n",
        "obj2 = Counter()\n",
        "obj3 = Counter()\n",
        "obj4 = Counter()\n",
        "obj5 = Counter()\n",
        "Counter.display_count()"
      ],
      "metadata": {
        "colab": {
          "base_uri": "https://localhost:8080/"
        },
        "id": "HBKWIOL5LOd5",
        "outputId": "152901e3-4c6f-40f8-f132-ba7e13ed0e4d"
      },
      "execution_count": null,
      "outputs": [
        {
          "output_type": "stream",
          "name": "stdout",
          "text": [
            "Total Counts:  5\n"
          ]
        }
      ]
    },
    {
      "cell_type": "markdown",
      "source": [
        "**3. Public Variables and Methods**\n",
        "\n",
        "Assignment:\n",
        "Create a class Car with a public variable brand and a public method start(). Instantiate the class and access both from outside the class."
      ],
      "metadata": {
        "id": "E3Hi-DH5NFUO"
      }
    },
    {
      "cell_type": "code",
      "source": [
        "class Car:\n",
        "\n",
        "  def __init__(self,brand):\n",
        "     self.brand=brand #public variable\n",
        "\n",
        "  def start(self): #public method\n",
        "    print(f\"{self.brand} is starting...\")\n",
        "\n",
        "\n",
        "# Instantiate the class\n",
        "car1 = Car(\"Toyota\")\n",
        "print(f\"Brand: {car1.brand}\") # calling public variable\n",
        "car1.start()\n",
        "car2 = Car(\"Civics\")\n",
        "print(f\"Brand: {car2.brand}\")\n",
        "car2.start()\n"
      ],
      "metadata": {
        "colab": {
          "base_uri": "https://localhost:8080/"
        },
        "id": "k4pq89y0NRnJ",
        "outputId": "6f731ca6-26eb-4c0a-c964-2a61a7a0dad8"
      },
      "execution_count": null,
      "outputs": [
        {
          "output_type": "stream",
          "name": "stdout",
          "text": [
            "Brand: Toyota\n",
            "Toyota is starting...\n",
            "Brand: Civics\n",
            "Civics is starting...\n"
          ]
        }
      ]
    },
    {
      "cell_type": "markdown",
      "source": [
        "**4. Class Variables and Class Methods**\n",
        "\n",
        "Assignment:\n",
        "Create a class Bank with a class variable bank_name. Add a class method change_bank_name(cls, name) that allows changing the bank name. Show that it affects all instances."
      ],
      "metadata": {
        "id": "DCZsZJkgQIbc"
      }
    },
    {
      "cell_type": "code",
      "source": [
        "class Bank:\n",
        "    bank_name = \"Default bank\"\n",
        "\n",
        "    def __init__(self, account_holder):\n",
        "        self.account_holder = account_holder\n",
        "\n",
        "    @classmethod\n",
        "    def change_bank_name(cls, new_bank_name):\n",
        "        cls.bank_name = new_bank_name\n",
        "\n",
        "    def display_info(self):\n",
        "        print(f\"Account Holder: {self.account_holder} & Bank Name: {Bank.bank_name}\")\n",
        "\n",
        "acc1 = Bank(\"Fahad\")\n",
        "acc2 = Bank(\"Faizan\")\n",
        "\n",
        "# Before changing bank name\n",
        "acc1.display_info()\n",
        "acc2.display_info()\n",
        "\n",
        "# Change bank name via class method\n",
        "Bank.change_bank_name(\"Al Falah Bank\")\n",
        "\n",
        "# After changing bank name\n",
        "acc1.display_info()\n",
        "acc2.display_info()\n"
      ],
      "metadata": {
        "id": "v_G7QcBeQSu0",
        "colab": {
          "base_uri": "https://localhost:8080/"
        },
        "outputId": "6a4a9a67-78df-4959-8d5e-0fd2b84a427b"
      },
      "execution_count": null,
      "outputs": [
        {
          "output_type": "stream",
          "name": "stdout",
          "text": [
            "Account Holder: Fahad & Bank Name: Default bank\n",
            "Account Holder: Faizan & Bank Name: Default bank\n",
            "Account Holder: Fahad & Bank Name: Al Falah Bank\n",
            "Account Holder: Faizan & Bank Name: Al Falah Bank\n"
          ]
        }
      ]
    },
    {
      "cell_type": "markdown",
      "source": [
        "**5. Static Variables and Static Methods**\n",
        "\n",
        "Assignment:\n",
        "Create a class MathUtils with a static method add(a, b) that returns the sum. No class or instance variables should be used."
      ],
      "metadata": {
        "id": "Zouu4ODUIPV2"
      }
    },
    {
      "cell_type": "code",
      "source": [
        "class MathUtils:\n",
        "\n",
        "  @staticmethod\n",
        "  def add(a,b):\n",
        "    return(f\"Sum of a & b are : {a+b}\")\n",
        "\n",
        "MathUtils.add(2,5)\n",
        "MathUtils.add(2,8)"
      ],
      "metadata": {
        "id": "0hSCd49DIV8f"
      },
      "execution_count": null,
      "outputs": []
    },
    {
      "cell_type": "markdown",
      "source": [
        "**6. Constructors and Destructors**\n",
        "\n",
        "Assignment:\n",
        "Create a class Logger that prints a message when an object is created (constructor) and another message when it is destroyed (destructor).\n"
      ],
      "metadata": {
        "id": "RYqF0bIAKEB4"
      }
    },
    {
      "cell_type": "code",
      "source": [
        "class Logger:\n",
        "\n",
        "  def __init__(self):\n",
        "    print(\"Message: Logger is created\") # construtor method\n",
        "\n",
        "  def __del__(self):\n",
        "    print(\"Message: Logger is destroyed\") # destructor method\n",
        "\n",
        "log = Logger()\n",
        "del Logger"
      ],
      "metadata": {
        "colab": {
          "base_uri": "https://localhost:8080/"
        },
        "id": "aBv3QprdKTdd",
        "outputId": "ba70420d-f1a5-4374-c504-0d7cd5e8de12"
      },
      "execution_count": null,
      "outputs": [
        {
          "output_type": "stream",
          "name": "stdout",
          "text": [
            "Message: Logger is created\n",
            "Message: Logger is destroyed\n"
          ]
        }
      ]
    },
    {
      "cell_type": "markdown",
      "source": [
        "**7. Access Modifiers: Public, Private, and Protected**\n",
        "\n",
        "Assignment:\n",
        "Create a class Employee with:\n",
        "\n",
        "a public variable name,\n",
        "\n",
        "a protected variable _salary, and\n",
        "\n",
        "a private variable __ssn.\n",
        "\n",
        "Try accessing all three variables from an object of the class and document what happens."
      ],
      "metadata": {
        "id": "PCoTTBUcMI3r"
      }
    },
    {
      "cell_type": "code",
      "source": [
        "class Employee:\n",
        "\n",
        "  name = \"Rehana\" # public variable\n",
        "  _salary = 8000   # protected variable\n",
        "  __ssn = \"123-45-678\" # private variable\n",
        "\n",
        "\n",
        "#creating an object\n",
        "emp = Employee()\n",
        "\n",
        "# Accessing public variables\n",
        "print(f\"Name: {emp.name}\")\n",
        "\n",
        "# Acessing protected variable\n",
        "print(f\"Salary: {emp._salary}\")\n",
        "\n",
        "# Accessing private variable\n",
        "try:\n",
        "  print(f\"SSN: {emp.__ssn}\") #❌ Error – Cannot access directly\n",
        "except AttributeError as e:\n",
        "  print(f\"Error: {e}\")\n",
        "\n",
        "print(f\"SSN: {emp._Employee__ssn}\")  # ✅ Works\n",
        "\n",
        "\n",
        "\n",
        "\n",
        "\n",
        "\n"
      ],
      "metadata": {
        "colab": {
          "base_uri": "https://localhost:8080/"
        },
        "id": "iVwno4CJMt_j",
        "outputId": "e0c9dbb3-973f-458a-be6a-4ebd0a5e4d61"
      },
      "execution_count": null,
      "outputs": [
        {
          "output_type": "stream",
          "name": "stdout",
          "text": [
            "Name: Rehana\n",
            "Salary: 8000\n",
            "Error: 'Employee' object has no attribute '__ssn'\n",
            "SSN: 123-45-678\n"
          ]
        }
      ]
    },
    {
      "cell_type": "markdown",
      "source": [
        "**8. The super() Function**\n",
        "\n",
        "Assignment:\n",
        "Create a class Person with a constructor that sets the name. Inherit a class Teacher from it, add a subject field, and use super() to call the base class constructor."
      ],
      "metadata": {
        "id": "bS0zL5VhYiwP"
      }
    },
    {
      "cell_type": "code",
      "source": [
        "class Person:\n",
        "\n",
        "  def __init__(self, name):\n",
        "    self.name = name\n",
        "    print(f\"Name :  {self.name}\")\n",
        "\n",
        "class Teacher(Person):\n",
        "    def __init__(self, name, subject):\n",
        "      super().__init__(name) # call base constructor\n",
        "      self.subject = subject\n",
        "      print(f\"{self.name} is my {self.subject} teacher.\")\n",
        "\n",
        "# make object\n",
        "teacher1 = Teacher(\"Fahad\", \"Maths\")"
      ],
      "metadata": {
        "colab": {
          "base_uri": "https://localhost:8080/"
        },
        "id": "9EQG9zKnYuYT",
        "outputId": "35334f96-546f-422a-f04a-3f3c3bf46d4a"
      },
      "execution_count": null,
      "outputs": [
        {
          "output_type": "stream",
          "name": "stdout",
          "text": [
            "Name :  Fahad\n",
            "Fahad is my Maths teacher.\n"
          ]
        }
      ]
    },
    {
      "cell_type": "markdown",
      "source": [
        "**9. Abstract Classes and Methods**\n",
        "\n",
        "Assignment:\n",
        "Use the abc module to create an abstract class Shape with an abstract method area(). Inherit a class Rectangle that implements area().\n"
      ],
      "metadata": {
        "id": "ZaWMzfSMcJXd"
      }
    },
    {
      "cell_type": "code",
      "source": [
        "from abc import ABC, abstractmethod\n",
        "\n",
        "# Abstract class\n",
        "class Shape(ABC):\n",
        "    @abstractmethod\n",
        "    def area(self):\n",
        "        pass  # sirf structure bataya, code nahi diya\n",
        "\n",
        "# Rectangle class jo Shape ko inherit karta hai\n",
        "class Rectangle(Shape):\n",
        "    def __init__(self, length, width):\n",
        "        self.length = length\n",
        "        self.width = width\n",
        "\n",
        "    def area(self):\n",
        "        return self.length * self.width\n",
        "\n",
        "# Object\n",
        "rect = Rectangle(5, 3)\n",
        "print(\"Area of rectangle:\", rect.area())\n"
      ],
      "metadata": {
        "colab": {
          "base_uri": "https://localhost:8080/"
        },
        "id": "F1I50rrrcRmr",
        "outputId": "82d2c3e9-165c-4177-ef99-0abe2fce5f88"
      },
      "execution_count": null,
      "outputs": [
        {
          "output_type": "stream",
          "name": "stdout",
          "text": [
            "Area of rectangle: 15\n"
          ]
        }
      ]
    },
    {
      "cell_type": "markdown",
      "source": [
        "**10. Instance Methods**\n",
        "\n",
        "Assignment:\n",
        "Create a class Dog with instance variables name and breed. Add an instance method bark() that prints a message including the dog's name."
      ],
      "metadata": {
        "id": "YLQYE3H2fwX2"
      }
    },
    {
      "cell_type": "code",
      "source": [
        "class Dog:\n",
        "\n",
        "  def __init__(self, name, breed):\n",
        "    self.name = name\n",
        "    self.breed = breed\n",
        "\n",
        "  def bark(self):\n",
        "    print(f\"{self.name} which belongs to {self.breed} say woof woof..\")\n",
        "\n",
        "dog1 = Dog(\"Buddy\", \"French Bulldog\")\n",
        "dog1.bark()"
      ],
      "metadata": {
        "colab": {
          "base_uri": "https://localhost:8080/"
        },
        "id": "eC4HR1L0f7mD",
        "outputId": "21462479-0e97-48f5-b189-52d006ceb9bd"
      },
      "execution_count": null,
      "outputs": [
        {
          "output_type": "stream",
          "name": "stdout",
          "text": [
            "Buddy which belongs to French Bulldog say woof woof..\n"
          ]
        }
      ]
    },
    {
      "cell_type": "markdown",
      "source": [
        "**11. Class Methods**\n",
        "\n",
        "Assignment:\n",
        "Create a class Book with a class variable total_books. Add a class method increment_book_count() to increase the count when a new book is added."
      ],
      "metadata": {
        "id": "rcXIYvaPjQH_"
      }
    },
    {
      "cell_type": "code",
      "source": [
        "class Book:\n",
        "    total_books = 0\n",
        "\n",
        "    def __init__(self, title):\n",
        "        self.title = title\n",
        "        Book.increment_book_count()\n",
        "\n",
        "    @classmethod\n",
        "    def increment_book_count(cls):\n",
        "        cls.total_books += 1\n",
        "\n",
        "# Creating books\n",
        "book1 = Book(\"Math Book\")\n",
        "book2 = Book(\"Science Book\")\n",
        "book = Book(\"Urdu Book\")\n",
        "\n",
        "print(\"Total books:\", Book.total_books)\n",
        "\n"
      ],
      "metadata": {
        "colab": {
          "base_uri": "https://localhost:8080/"
        },
        "id": "ONDYXdRxjV-f",
        "outputId": "c02b708a-2361-4b25-c2db-bbf69cd540ba"
      },
      "execution_count": null,
      "outputs": [
        {
          "output_type": "stream",
          "name": "stdout",
          "text": [
            "Total books: 3\n"
          ]
        }
      ]
    },
    {
      "cell_type": "markdown",
      "source": [
        "**12. Static Methods**\n",
        "\n",
        "Assignment:\n",
        "Create a class TemperatureConverter with a static method celsius_to_fahrenheit(c) that returns the Fahrenheit value."
      ],
      "metadata": {
        "id": "p8Q_2d6H2VlD"
      }
    },
    {
      "cell_type": "code",
      "source": [
        "class TemperatureConverter:\n",
        "\n",
        "  @staticmethod\n",
        "  def celsius_to_fahrenheit(c):\n",
        "    return (c * 9/5) + 32\n",
        "\n",
        "result = TemperatureConverter.celsius_to_fahrenheit(8)\n",
        "print(f\"Temperature in Fahrenheit: {result} F\")\n"
      ],
      "metadata": {
        "colab": {
          "base_uri": "https://localhost:8080/"
        },
        "id": "ZqHPQBBn2ezb",
        "outputId": "cbbf76f8-3510-4c1a-b318-00446db66b96"
      },
      "execution_count": null,
      "outputs": [
        {
          "output_type": "stream",
          "name": "stdout",
          "text": [
            "Temperature in Fahrenheit: 46.4 F\n"
          ]
        }
      ]
    },
    {
      "cell_type": "markdown",
      "source": [
        "**13. Composition**\n",
        "\n",
        "Assignment:\n",
        "Create a class Engine and a class Car. Use composition by passing an Engine object to the Car class during initialization. Access a method of the Engine class via the Car class."
      ],
      "metadata": {
        "id": "m8VGXVVg4OO9"
      }
    },
    {
      "cell_type": "code",
      "source": [
        "class Engine:\n",
        "    def start(self):\n",
        "        return \"Engine started\"\n",
        "\n",
        "# Car class that uses an Engine object\n",
        "class Car:\n",
        "    def __init__(self, engine):\n",
        "        self.engine = engine  # Composition: Car HAS an Engine\n",
        "\n",
        "    def start_car(self):\n",
        "        return self.engine.start()  # Using Engine's method\n",
        "\n",
        "# Create an Engine object\n",
        "my_engine = Engine()\n",
        "\n",
        "# Pass the Engine object to the Car\n",
        "my_car = Car(my_engine)\n",
        "\n",
        "# Use Car to start the Engine\n",
        "print(my_car.start_car())\n",
        "\n"
      ],
      "metadata": {
        "colab": {
          "base_uri": "https://localhost:8080/"
        },
        "id": "cphvefgE4W9U",
        "outputId": "f1d02eb0-0ac7-4515-8251-e6224de27173"
      },
      "execution_count": null,
      "outputs": [
        {
          "output_type": "stream",
          "name": "stdout",
          "text": [
            "Engine started\n"
          ]
        }
      ]
    },
    {
      "cell_type": "markdown",
      "source": [
        "**14. Aggregation**\n",
        "\n",
        "\n",
        "Assignment:\n",
        "Create a class Department and a class Employee. Use aggregation by having a Department object store a reference to an Employee object that exists independently of it."
      ],
      "metadata": {
        "id": "MNx03lBJNIuB"
      }
    },
    {
      "cell_type": "code",
      "source": [
        "# Employee class\n",
        "class Employee:\n",
        "    def __init__(self, name, emp_id):\n",
        "        self.name = name\n",
        "        self.emp_id = emp_id\n",
        "\n",
        "    def display(self):\n",
        "        print(f\"Employee Name: {self.name}, ID: {self.emp_id}\")\n",
        "\n",
        "# Department class (aggregation)\n",
        "class Department:\n",
        "    def __init__(self, dept_name, employee):\n",
        "        self.dept_name = dept_name\n",
        "        self.employee = employee  # Aggregation: storing reference to Employee\n",
        "\n",
        "    def show_details(self):\n",
        "        print(f\"Department: {self.dept_name}\")\n",
        "        self.employee.display()  # Using the employee object\n",
        "\n",
        "# Creating an Employee object independently\n",
        "emp1 = Employee(\"Alice\", 101)\n",
        "\n",
        "# Passing the existing employee to Department (aggregation)\n",
        "dept1 = Department(\"HR\", emp1)\n",
        "\n",
        "# Displaying details\n",
        "dept1.show_details()\n",
        "\n"
      ],
      "metadata": {
        "colab": {
          "base_uri": "https://localhost:8080/"
        },
        "id": "roNrhOCCNQOE",
        "outputId": "14277fc8-892d-40a6-82bc-eee4d2a27856"
      },
      "execution_count": null,
      "outputs": [
        {
          "output_type": "stream",
          "name": "stdout",
          "text": [
            "Department: HR\n",
            "Employee Name: Alice, ID: 101\n"
          ]
        }
      ]
    },
    {
      "cell_type": "markdown",
      "source": [
        "**15. Method Resolution Order (MRO) and Diamond Inheritance**\n",
        "\n",
        "\n",
        "Assignment:\n",
        "Create four classes:\n",
        "\n",
        "A with a method show(),\n",
        "\n",
        "B and C that inherit from A and override show(),\n",
        "\n",
        "D that inherits from both B and C.\n",
        "\n",
        "Create an object of D and call show() to observe MRO."
      ],
      "metadata": {
        "id": "KRldM_-eRS9m"
      }
    },
    {
      "cell_type": "code",
      "source": [
        "class A:\n",
        "  def show(self):\n",
        "    print(\"Method show() from class A\")\n",
        "\n",
        "class B(A):\n",
        "  def show(self):\n",
        "    print(\"Method show() from class B\")\n",
        "\n",
        "class C(A):\n",
        "  def show(self):\n",
        "    print(\"Method show() from class C\")\n",
        "\n",
        "class D(B,C):\n",
        "  pass\n",
        "\n",
        "objD = D()\n",
        "objD.show() # Check which method is called"
      ],
      "metadata": {
        "id": "Yd5xKqVbReiK",
        "colab": {
          "base_uri": "https://localhost:8080/"
        },
        "outputId": "5019514a-4e1b-4b8e-fbb0-d38e084930e2"
      },
      "execution_count": 11,
      "outputs": [
        {
          "output_type": "stream",
          "name": "stdout",
          "text": [
            "Method show() from class B\n"
          ]
        }
      ]
    },
    {
      "cell_type": "markdown",
      "source": [
        "**16. Function Decorators**\n",
        "\n",
        "Assignment:\n",
        "Write a decorator function log_function_call that prints \"Function is being called\" before a function executes. Apply it to a function say_hello()."
      ],
      "metadata": {
        "id": "IkLEv8oO3hpN"
      }
    },
    {
      "cell_type": "code",
      "source": [
        "# Decorator function\n",
        "def log_function_call(func):\n",
        "    def wrapper():\n",
        "        print(\"Function is being called\")\n",
        "        func()\n",
        "    return wrapper\n",
        "\n",
        "# Applying the decorator\n",
        "@log_function_call\n",
        "def say_hello():\n",
        "    print(\"Hello!\")\n",
        "\n",
        "# Calling the function\n",
        "say_hello()\n"
      ],
      "metadata": {
        "colab": {
          "base_uri": "https://localhost:8080/"
        },
        "id": "aqIohjPt3pNL",
        "outputId": "659890de-35b2-469b-d454-5dd8b0f6a950"
      },
      "execution_count": 12,
      "outputs": [
        {
          "output_type": "stream",
          "name": "stdout",
          "text": [
            "Function is being called\n",
            "Hello!\n"
          ]
        }
      ]
    },
    {
      "cell_type": "markdown",
      "source": [
        "**17. Class Decorators**\n",
        "\n",
        "Assignment:\n",
        "Create a class decorator add_greeting that modifies a class to add a greet() method returning \"Hello from Decorator!\". Apply it to a class Person."
      ],
      "metadata": {
        "id": "XMlyLe6I4bUf"
      }
    },
    {
      "cell_type": "code",
      "source": [
        "# Class Decorator\n",
        "def add_greeting(cls):\n",
        "    def greet(self):\n",
        "        return \"Hello from Decorator!\"\n",
        "    cls.greet = greet\n",
        "    return cls\n",
        "\n",
        "# Applying the class decorator\n",
        "@add_greeting\n",
        "class Person:\n",
        "    def __init__(self, name):\n",
        "        self.name = name\n",
        "\n",
        "# Creating an object\n",
        "p = Person(\"Ali\")\n",
        "\n",
        "# Calling the added method\n",
        "print(p.greet())\n"
      ],
      "metadata": {
        "colab": {
          "base_uri": "https://localhost:8080/"
        },
        "id": "9uuDvZwg4qEY",
        "outputId": "8b82c408-cb20-49b5-a6d3-fc7e5962fe15"
      },
      "execution_count": 13,
      "outputs": [
        {
          "output_type": "stream",
          "name": "stdout",
          "text": [
            "Hello from Decorator!\n"
          ]
        }
      ]
    },
    {
      "cell_type": "markdown",
      "source": [
        "**18. Property Decorators: @property, @setter, and @deleter**\n",
        "\n",
        "\n",
        "Assignment:\n",
        "Create a class Product with a private attribute _price. Use @property to get the price, @price.setter to update it, and @price.deleter to delete it."
      ],
      "metadata": {
        "id": "av09gP6M5cGw"
      }
    },
    {
      "cell_type": "code",
      "source": [
        "class Product:\n",
        "    def __init__(self, price):\n",
        "        self._price = price  # Private attribute\n",
        "\n",
        "    @property\n",
        "    def price(self):\n",
        "        return self._price  # Getter\n",
        "\n",
        "    @price.setter\n",
        "    def price(self, new_price):\n",
        "        self._price = new_price  # Setter\n",
        "\n",
        "    @price.deleter\n",
        "    def price(self):\n",
        "        del self._price  # Deleter\n",
        "\n",
        "# Object\n",
        "p = Product(100)\n",
        "\n",
        "# Read the price (getter)\n",
        "print(p.price)  # Output: 100\n",
        "\n",
        "# update price setter)\n",
        "p.price = 150\n",
        "print(p.price)  # Output: 150\n",
        "\n",
        "# delete the price (deleter)\n",
        "del p.price\n"
      ],
      "metadata": {
        "colab": {
          "base_uri": "https://localhost:8080/"
        },
        "id": "UPKWdFrl53CR",
        "outputId": "65fb861d-6ccc-44ac-f774-caf8aa495d8c"
      },
      "execution_count": 14,
      "outputs": [
        {
          "output_type": "stream",
          "name": "stdout",
          "text": [
            "100\n",
            "150\n"
          ]
        }
      ]
    },
    {
      "cell_type": "markdown",
      "source": [
        "**19. callable() and __call__()**\n",
        "\n",
        "\n",
        "Assignment:\n",
        "Create a class Multiplier with an __init__() to set a factor. Define a __call__() method that multiplies an input by the factor. Test it with callable() and by calling the object like a function."
      ],
      "metadata": {
        "id": "TA04gIcp6uqU"
      }
    },
    {
      "cell_type": "code",
      "source": [
        "class Multiplier:\n",
        "    def __init__(self, factor):\n",
        "        self.factor = factor  # set factor\n",
        "\n",
        "    def __call__(self, value):\n",
        "        return value * self.factor  # multiply input with factor\n",
        "\n",
        "m = Multiplier(7)\n",
        "\n",
        "# Test with callable()\n",
        "print(callable(m))  # Output: True (object can be called like a function)\n",
        "\n",
        "# Call the object like a function\n",
        "result = m(5)\n",
        "print(result)\n"
      ],
      "metadata": {
        "colab": {
          "base_uri": "https://localhost:8080/"
        },
        "id": "4e55Qj43640g",
        "outputId": "81dd90d1-b69c-49f5-adbf-54e76985567a"
      },
      "execution_count": 18,
      "outputs": [
        {
          "output_type": "stream",
          "name": "stdout",
          "text": [
            "True\n",
            "35\n"
          ]
        }
      ]
    },
    {
      "cell_type": "markdown",
      "source": [
        "**20. Creating a Custom Exception**\n",
        "\n",
        "Assignment:\n",
        "Create a custom exception InvalidAgeError. Write a function check_age(age) that raises this exception if age < 18. Handle it with try...except."
      ],
      "metadata": {
        "id": "fstDs8TP7wu0"
      }
    },
    {
      "cell_type": "code",
      "source": [
        "# Custom exception\n",
        "class InvalidAgeError(Exception):\n",
        "    pass\n",
        "\n",
        "# Function to check age\n",
        "def check_age(age):\n",
        "    if age < 18:\n",
        "        raise InvalidAgeError(\"Age must be 18 or older.\")\n",
        "    print(f\"Age: {age}\")\n",
        "\n",
        "# Main program\n",
        "try:\n",
        "    age = int(input(\"Enter your age: \"))\n",
        "    check_age(age)  # Call the function to check age\n",
        "except InvalidAgeError as e:\n",
        "    print(e)  # Handle the exception and print error message\n"
      ],
      "metadata": {
        "colab": {
          "base_uri": "https://localhost:8080/"
        },
        "collapsed": true,
        "id": "Sutq_kQ075GB",
        "outputId": "4cd6792f-886e-4146-c057-26bebfabeb7e"
      },
      "execution_count": 21,
      "outputs": [
        {
          "output_type": "stream",
          "name": "stdout",
          "text": [
            "Enter your age: 10\n",
            "Age must be 18 or older.\n"
          ]
        }
      ]
    },
    {
      "cell_type": "markdown",
      "source": [
        "**21. Make a Custom Class Iterable**\n",
        "\n",
        "Assignment:\n",
        "Create a class Countdown that takes a start number. Implement __iter__() and __next__() to make the object iterable in a for-loop, counting down to 0."
      ],
      "metadata": {
        "id": "Ok-ltGG195RA"
      }
    },
    {
      "cell_type": "code",
      "source": [
        "class Countdown:\n",
        "    def __init__(self, start):\n",
        "        self.start = start  # Starting number\n",
        "        self.current = start  # Current number for countdown\n",
        "\n",
        "    def __iter__(self):\n",
        "        return self  # Return the iterator object itself\n",
        "\n",
        "    def __next__(self):\n",
        "        if self.current <= 0:\n",
        "            raise StopIteration  # Stop iteration when countdown reaches 0\n",
        "        else:\n",
        "            self.current -= 1  # Decrease the current number\n",
        "            return self.current  # Return the current value\n",
        "\n",
        "# Object banate hain\n",
        "countdown = Countdown(7)\n",
        "\n",
        "# For loop mein countdown ko iterate karte hain\n",
        "for number in countdown:\n",
        "    print(number)\n"
      ],
      "metadata": {
        "colab": {
          "base_uri": "https://localhost:8080/"
        },
        "id": "Q6IIeuOv-EIS",
        "outputId": "e49c816e-5192-461d-cd88-40dc5f2f8c1c"
      },
      "execution_count": 23,
      "outputs": [
        {
          "output_type": "stream",
          "name": "stdout",
          "text": [
            "6\n",
            "5\n",
            "4\n",
            "3\n",
            "2\n",
            "1\n",
            "0\n"
          ]
        }
      ]
    }
  ]
}